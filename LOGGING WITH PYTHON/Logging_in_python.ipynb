{
  "nbformat": 4,
  "nbformat_minor": 0,
  "metadata": {
    "colab": {
      "provenance": []
    },
    "kernelspec": {
      "name": "python3",
      "display_name": "Python 3"
    },
    "language_info": {
      "name": "python"
    }
  },
  "cells": [
    {
      "cell_type": "markdown",
      "source": [
        "Logging is way to track events , errors and operational information.\n"
      ],
      "metadata": {
        "id": "MjU5EYkgevA3"
      }
    },
    {
      "cell_type": "code",
      "execution_count": null,
      "metadata": {
        "id": "FsZHsryGedkK"
      },
      "outputs": [],
      "source": [
        "import logging"
      ]
    },
    {
      "cell_type": "code",
      "source": [
        "# OCnfigurations for logging\n",
        "logging.basicConfig(level = logging.DEBUG)\n",
        "\n",
        "# log messages\n",
        "logging.debug('This is a debug message')\n",
        "logging.info('This is an info message')\n",
        "logging.warning('This is a warning message')\n",
        "logging.error('This is an error message')\n",
        "logging.critical('This is a critical message')"
      ],
      "metadata": {
        "colab": {
          "base_uri": "https://localhost:8080/"
        },
        "id": "CG9zumdke-K4",
        "outputId": "f6a78ab9-8264-41f8-bb16-8de3dae01bc8"
      },
      "execution_count": null,
      "outputs": [
        {
          "output_type": "stream",
          "name": "stderr",
          "text": [
            "WARNING:root:This is a warning message\n",
            "ERROR:root:This is an error message\n",
            "CRITICAL:root:This is a critical message\n"
          ]
        }
      ]
    },
    {
      "cell_type": "markdown",
      "source": [
        "Log Levels\n",
        "Python's logging module has several log levels indicating the severity of events. The default levels are:\n",
        "\n",
        "DEBUG: Detailed information, typically of interest only when diagnosing problems.\n",
        "INFO: Confirmation that things are working as expected.\n",
        "WARNING: An indication that something unexpected happened or indicative of some problem in the near future (e.g., ‘disk space low’). The software is still working as expected.\n",
        "ERROR: Due to a more serious problem, the software has not been able to perform some function.\n",
        "CRITICAL: A very serious error, indicating that the program itself may be unable to continue running."
      ],
      "metadata": {
        "id": "YFlfG-iWfpDF"
      }
    },
    {
      "cell_type": "code",
      "source": [
        "## configuring the logging\n",
        "logging.basicConfig(\n",
        "    level=logging.DEBUG,\n",
        "    format = '%(asctime)s-%(name)-%(levelname)s-%(message)s',\n",
        "    datefmt = '%Y-%m-%d %H:%M:%S'\n",
        ")"
      ],
      "metadata": {
        "id": "bNb2QY53fV4R"
      },
      "execution_count": null,
      "outputs": []
    },
    {
      "cell_type": "code",
      "source": [
        "## configuring the logging\n",
        "logging.basicConfig(\n",
        "    filename='app.log',\n",
        "    filemode='w',\n",
        "    level=logging.DEBUG,\n",
        "    format = '%(asctime)s-%(name)-%(levelname)s-%(message)s',\n",
        "    datefmt = '%Y-%m-%d %H:%M:%S'\n",
        ")\n",
        "\n",
        "# log messages\n",
        "logging.debug('This is a debug message')\n",
        "logging.info('This is an info message')\n",
        "logging.warning('This is a warning message')\n",
        "logging.error('This is an error message')\n",
        "logging.critical('This is a critical message')"
      ],
      "metadata": {
        "colab": {
          "base_uri": "https://localhost:8080/"
        },
        "id": "3Z5Ls6Dqgcdz",
        "outputId": "95d17d46-6c91-4582-d75c-9363c4230007"
      },
      "execution_count": null,
      "outputs": [
        {
          "output_type": "stream",
          "name": "stderr",
          "text": [
            "WARNING:root:This is a warning message\n",
            "ERROR:root:This is an error message\n",
            "CRITICAL:root:This is a critical message\n"
          ]
        }
      ]
    },
    {
      "cell_type": "code",
      "source": [],
      "metadata": {
        "id": "lFchaRnvg4s8"
      },
      "execution_count": null,
      "outputs": []
    }
  ]
}