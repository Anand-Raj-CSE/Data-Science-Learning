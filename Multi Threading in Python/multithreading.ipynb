{
 "cells": [
  {
   "cell_type": "markdown",
   "metadata": {},
   "source": [
    "In multithreading threds share code segment , data segment and heap memory with the process but all threads have their own stack and registers(small and temporary memory). Multithreading is used where we have high requirement of I/O operations and it could also be used while improving the throughput of a programme where we could do multiple operations concurrently."
   ]
  },
  {
   "cell_type": "code",
   "execution_count": 1,
   "metadata": {},
   "outputs": [],
   "source": [
    "import threading\n",
    "import time"
   ]
  },
  {
   "cell_type": "code",
   "execution_count": 3,
   "metadata": {},
   "outputs": [],
   "source": [
    "def printnumbers():\n",
    "    for i in range(5):\n",
    "        print(f\"number : {i}\")\n",
    "\n",
    "def print_letter():\n",
    "    for letter in \"abcde\":\n",
    "        print(f\"Letter : {letter}\")\n"
   ]
  },
  {
   "cell_type": "code",
   "execution_count": 6,
   "metadata": {},
   "outputs": [
    {
     "name": "stdout",
     "output_type": "stream",
     "text": [
      "number : 0\n",
      "number : 1\n",
      "number : 2\n",
      "number : 3\n",
      "number : 4\n",
      "Letter : a\n",
      "Letter : b\n",
      "Letter : c\n",
      "Letter : d\n",
      "Letter : e\n",
      "0.0035889148712158203\n"
     ]
    }
   ],
   "source": [
    "t=time.time()\n",
    "printnumbers()\n",
    "print_letter()\n",
    "finishing_time = time.time()-t\n",
    "print(finishing_time)"
   ]
  },
  {
   "cell_type": "code",
   "execution_count": 7,
   "metadata": {},
   "outputs": [],
   "source": [
    "def printnumbers():\n",
    "    for i in range(5):\n",
    "        time.sleep(2)\n",
    "        print(f\"number : {i}\")\n",
    "\n",
    "def print_letter():\n",
    "    for letter in \"abcde\":\n",
    "        time.sleep(2)\n",
    "        print(f\"Letter : {letter}\")"
   ]
  },
  {
   "cell_type": "code",
   "execution_count": 8,
   "metadata": {},
   "outputs": [
    {
     "name": "stdout",
     "output_type": "stream",
     "text": [
      "number : 0\n",
      "number : 1\n",
      "number : 2\n",
      "number : 3\n",
      "number : 4\n",
      "Letter : a\n",
      "Letter : b\n",
      "Letter : c\n",
      "Letter : d\n",
      "Letter : e\n",
      "20.08571219444275\n"
     ]
    }
   ],
   "source": [
    "t=time.time()\n",
    "printnumbers()\n",
    "print_letter()\n",
    "finishing_time = time.time()-t\n",
    "print(finishing_time)"
   ]
  },
  {
   "cell_type": "markdown",
   "metadata": {},
   "source": [
    "Here when we called the number function it is sleepig as only single thread is runnig , our mrmory and processing is unutilised while the numbers are sleeping we could also let the letters be printed once the numbers go to sleep. SO we could meke 2 threads for both the functions."
   ]
  },
  {
   "cell_type": "code",
   "execution_count": 10,
   "metadata": {},
   "outputs": [],
   "source": [
    "t1 = threading.Thread(target=printnumbers) # making a thread which would execute the numbers function\n",
    "t2 = threading.Thread(target=print_letter)\n",
    "\n"
   ]
  },
  {
   "cell_type": "code",
   "execution_count": 11,
   "metadata": {},
   "outputs": [
    {
     "name": "stdout",
     "output_type": "stream",
     "text": [
      "Letter : a\n",
      "number : 0\n",
      "Letter : b\n",
      "number : 1\n",
      "Letter : c\n",
      "number : 2\n",
      "Letter : d\n",
      "number : 3\n",
      "Letter : e\n",
      "number : 4\n",
      "10.079697608947754\n"
     ]
    }
   ],
   "source": [
    "t=time.time()\n",
    "# Lets start the threds\n",
    "t1.start()\n",
    "t2.start()\n",
    "\n",
    "# Wait for the threads to complte \n",
    "t1.join()\n",
    "t2.join()\n",
    "\n",
    "finishing_time = time.time() - t\n",
    "print(finishing_time)"
   ]
  },
  {
   "cell_type": "code",
   "execution_count": null,
   "metadata": {},
   "outputs": [],
   "source": []
  }
 ],
 "metadata": {
  "kernelspec": {
   "display_name": "Python 3",
   "language": "python",
   "name": "python3"
  },
  "language_info": {
   "codemirror_mode": {
    "name": "ipython",
    "version": 3
   },
   "file_extension": ".py",
   "mimetype": "text/x-python",
   "name": "python",
   "nbconvert_exporter": "python",
   "pygments_lexer": "ipython3",
   "version": "3.9.4"
  }
 },
 "nbformat": 4,
 "nbformat_minor": 2
}
