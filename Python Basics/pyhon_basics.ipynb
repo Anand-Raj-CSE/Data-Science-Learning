{
 "cells": [
  {
   "cell_type": "markdown",
   "metadata": {},
   "source": [
    "I would not be using baics python, I have another repo for this , I would be using when I see something new.\n",
    "\n",
    "Python Kernel decided the varibale type , datatype , type inference or dynamic typing"
   ]
  },
  {
   "cell_type": "code",
   "execution_count": 2,
   "metadata": {},
   "outputs": [
    {
     "name": "stdout",
     "output_type": "stream",
     "text": [
      "351\n"
     ]
    }
   ],
   "source": [
    "# New line continuation , use +\\\n",
    "total = 1+21+25+58+78 +\\\n",
    "78 + 90\n",
    "\n",
    "print(total)"
   ]
  },
  {
   "cell_type": "code",
   "execution_count": 3,
   "metadata": {},
   "outputs": [
    {
     "name": "stdout",
     "output_type": "stream",
     "text": [
      "23 <class 'str'>\n"
     ]
    }
   ],
   "source": [
    "# input \n",
    "age = input(\"Enter age : \")\n",
    "print(age,type(age))"
   ]
  },
  {
   "cell_type": "code",
   "execution_count": 6,
   "metadata": {},
   "outputs": [
    {
     "name": "stdout",
     "output_type": "stream",
     "text": [
      "False\n",
      "<class 'bool'>\n"
     ]
    }
   ],
   "source": [
    "print(bool())\n",
    "a=10\n",
    "b=20\n",
    "print(type(a==b))"
   ]
  },
  {
   "cell_type": "code",
   "execution_count": 7,
   "metadata": {},
   "outputs": [
    {
     "name": "stdout",
     "output_type": "stream",
     "text": [
      "hello5\n"
     ]
    }
   ],
   "source": [
    "result = \"hello\" + str(5)\n",
    "print(result)"
   ]
  },
  {
   "cell_type": "code",
   "execution_count": 10,
   "metadata": {},
   "outputs": [
    {
     "name": "stdout",
     "output_type": "stream",
     "text": [
      "4\n"
     ]
    },
    {
     "data": {
      "text/plain": [
       "5"
      ]
     },
     "execution_count": 10,
     "metadata": {},
     "output_type": "execute_result"
    }
   ],
   "source": [
    "# Floor Division\n",
    "print(21//5)\n",
    "\n",
    "def ceildivision(a,b):\n",
    "    return -(a//-b)\n",
    "\n",
    "ceildivision(21,5)"
   ]
  },
  {
   "cell_type": "code",
   "execution_count": 2,
   "metadata": {},
   "outputs": [
    {
     "name": "stdout",
     "output_type": "stream",
     "text": [
      "i is : 1 and j is : 0\n"
     ]
    }
   ],
   "source": [
    "#f string\n",
    "for i in range (2):\n",
    "    for j in range(i):\n",
    "        print(f\"i is : {i} and j is : {j}\")"
   ]
  },
  {
   "cell_type": "code",
   "execution_count": 2,
   "metadata": {},
   "outputs": [
    {
     "name": "stdout",
     "output_type": "stream",
     "text": [
      "0 0\n",
      "1 1\n",
      "2 2\n",
      "3 3\n",
      "4 4\n",
      "5 5\n",
      "6 6\n",
      "7 7\n",
      "8 8\n",
      "9 9\n",
      "10 10\n"
     ]
    }
   ],
   "source": [
    "# Iteration with index , enumerate does not work with int objects\n",
    "numbers = [i for i in range(11)]\n",
    "for index,number in enumerate(numbers):\n",
    "    print(index,number)"
   ]
  },
  {
   "cell_type": "code",
   "execution_count": 4,
   "metadata": {},
   "outputs": [
    {
     "name": "stdout",
     "output_type": "stream",
     "text": [
      "[0, 2, 4, 6, 8, 10, 12, 14, 16, 18]\n"
     ]
    }
   ],
   "source": [
    "# checking even numbeer in a list as list comprehension\n",
    "even_nums = [x for x in range(20) if x%2 == 0]\n",
    "print(even_nums)"
   ]
  },
  {
   "cell_type": "code",
   "execution_count": 5,
   "metadata": {},
   "outputs": [
    {
     "name": "stdout",
     "output_type": "stream",
     "text": [
      "[[1, 'a'], [1, 'b'], [1, 'c'], [1, 'd'], [1, 'e'], [1, 'f'], [1, 'g'], [2, 'a'], [2, 'b'], [2, 'c'], [2, 'd'], [2, 'e'], [2, 'f'], [2, 'g'], [3, 'a'], [3, 'b'], [3, 'c'], [3, 'd'], [3, 'e'], [3, 'f'], [3, 'g'], [4, 'a'], [4, 'b'], [4, 'c'], [4, 'd'], [4, 'e'], [4, 'f'], [4, 'g'], [5, 'a'], [5, 'b'], [5, 'c'], [5, 'd'], [5, 'e'], [5, 'f'], [5, 'g'], [6, 'a'], [6, 'b'], [6, 'c'], [6, 'd'], [6, 'e'], [6, 'f'], [6, 'g'], [7, 'a'], [7, 'b'], [7, 'c'], [7, 'd'], [7, 'e'], [7, 'f'], [7, 'g']]\n"
     ]
    }
   ],
   "source": [
    "# nested list comprension\n",
    "lst1 = [1,2,3,4,5,6,7]\n",
    "lst2 = ['a','b','c','d','e','f','g']\n",
    "\n",
    "pair = [[i,j] for i in lst1 for j in  lst2]\n",
    "\n",
    "print(pair)"
   ]
  },
  {
   "cell_type": "code",
   "execution_count": 12,
   "metadata": {},
   "outputs": [
    {
     "name": "stdout",
     "output_type": "stream",
     "text": [
      "[1, 2, 3, 'hare ram', 'hare jai siya ram'] (1, 2, 'Helo World')\n",
      "<class 'list'> <class 'tuple'>\n"
     ]
    }
   ],
   "source": [
    "#Creating lists and tuples from function, tuples are immutable , once initialised by a \n",
    "# value it could not be updated later\n",
    "mylst = [1,2,3,'hare ram',\"hare jai siya ram\"]\n",
    "mixed_touple = (1,2,\"Helo World\")\n",
    "\n",
    "print(mylst, mixed_touple)\n",
    "print(type(mylst),type(mixed_touple))"
   ]
  },
  {
   "cell_type": "code",
   "execution_count": 10,
   "metadata": {},
   "outputs": [
    {
     "name": "stdout",
     "output_type": "stream",
     "text": [
      "1\n",
      "2\n"
     ]
    }
   ],
   "source": [
    "numbers = (1,2,3,4,5,6,7) # initialsed a tuple\n",
    "print(numbers.count(1))\n",
    "print(numbers.index(3)) # on which index the arg is present on tuple\n"
   ]
  },
  {
   "cell_type": "code",
   "execution_count": 19,
   "metadata": {},
   "outputs": [
    {
     "name": "stdout",
     "output_type": "stream",
     "text": [
      "(1, 'Hello', 3.14)\n",
      "1 Hello 3.14\n"
     ]
    }
   ],
   "source": [
    "# packing and unpacking of tuple\n",
    "packed_tuple = 1,\"Hello\",3.14\n",
    "print(packed_tuple)\n",
    "\n",
    "# unpacking a tuple\n",
    "a,b,c = packed_tuple\n",
    "print(a,b,c,end=\"\\n\",)"
   ]
  },
  {
   "cell_type": "code",
   "execution_count": 15,
   "metadata": {},
   "outputs": [
    {
     "name": "stdout",
     "output_type": "stream",
     "text": [
      "1\n",
      "[2, 3, 4, 5, 6]\n",
      "7\n"
     ]
    }
   ],
   "source": [
    "# unpacking with * \n",
    "numbers = (1,2,3,4,5,6,7)\n",
    "first , *middle , last = numbers\n",
    "\n",
    "print(first,end=\"\\n\")\n",
    "print(middle)\n",
    "print(last)"
   ]
  },
  {
   "cell_type": "code",
   "execution_count": null,
   "metadata": {},
   "outputs": [],
   "source": []
  },
  {
   "cell_type": "code",
   "execution_count": null,
   "metadata": {},
   "outputs": [],
   "source": []
  },
  {
   "cell_type": "code",
   "execution_count": null,
   "metadata": {},
   "outputs": [],
   "source": []
  },
  {
   "cell_type": "code",
   "execution_count": null,
   "metadata": {},
   "outputs": [],
   "source": []
  },
  {
   "cell_type": "code",
   "execution_count": null,
   "metadata": {},
   "outputs": [],
   "source": []
  },
  {
   "cell_type": "code",
   "execution_count": null,
   "metadata": {},
   "outputs": [],
   "source": []
  }
 ],
 "metadata": {
  "kernelspec": {
   "display_name": "Python 3",
   "language": "python",
   "name": "python3"
  },
  "language_info": {
   "codemirror_mode": {
    "name": "ipython",
    "version": 3
   },
   "file_extension": ".py",
   "mimetype": "text/x-python",
   "name": "python",
   "nbconvert_exporter": "python",
   "pygments_lexer": "ipython3",
   "version": "3.9.4"
  }
 },
 "nbformat": 4,
 "nbformat_minor": 2
}
