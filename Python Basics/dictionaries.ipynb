{
 "cells": [
  {
   "cell_type": "markdown",
   "metadata": {},
   "source": [
    "### Dictionaries are unordered collections of key value pairs. Key must be unique and immutable(could not be changed) , only has a single value"
   ]
  },
  {
   "cell_type": "code",
   "execution_count": 4,
   "metadata": {},
   "outputs": [
    {
     "name": "stdout",
     "output_type": "stream",
     "text": [
      "{'name': 'Krish', 'age': 24}\n"
     ]
    }
   ],
   "source": [
    "student = {\"name\":\"Anand Raj\" , \"age\" : 24 , \"name\":\"Krish\"}\n",
    "print(student)"
   ]
  },
  {
   "cell_type": "code",
   "execution_count": 5,
   "metadata": {},
   "outputs": [
    {
     "name": "stdout",
     "output_type": "stream",
     "text": [
      "24\n",
      "24\n",
      "Not availble\n"
     ]
    }
   ],
   "source": [
    "print(student[\"age\"])\n",
    "print(student.get(\"age\"))\n",
    "# Suppose a key is not found then we could give arguments\n",
    "print(student.get(\"last name\",\"Not availble\"))"
   ]
  },
  {
   "cell_type": "code",
   "execution_count": 7,
   "metadata": {},
   "outputs": [
    {
     "name": "stdout",
     "output_type": "stream",
     "text": [
      "{'name': 'Krish', 'age': 33, 'address': 'India'}\n",
      "{'name': 'Krish', 'age': 33, 'address': 'India'}\n"
     ]
    }
   ],
   "source": [
    "# Modifying dictionaies\n",
    "student[\"age\"] = 33\n",
    "print(student)\n",
    "# Adding another key value pair\n",
    "\n",
    "student[\"address\"] = \"India\"\n",
    "print(student)\n",
    "\n"
   ]
  },
  {
   "cell_type": "code",
   "execution_count": 9,
   "metadata": {},
   "outputs": [
    {
     "name": "stdout",
     "output_type": "stream",
     "text": [
      "{'name': 'Krish', 'age': 33, 'address': 'India', 'grade': 'A'}\n",
      "dict_items([('name', 'Krish'), ('age', 33), ('address', 'India')])\n"
     ]
    }
   ],
   "source": [
    "# Deleting key value pair \n",
    "student[\"grade\"] = \"A\"\n",
    "print(student)\n",
    "del student[\"grade\"]\n",
    "print(student.items())"
   ]
  },
  {
   "cell_type": "code",
   "execution_count": 10,
   "metadata": {},
   "outputs": [
    {
     "name": "stdout",
     "output_type": "stream",
     "text": [
      "dict_keys(['name', 'age', 'address'])\n",
      "dict_values(['Krish', 33, 'India'])\n",
      "dict_items([('name', 'Krish'), ('age', 33), ('address', 'India')])\n"
     ]
    }
   ],
   "source": [
    "print(student.keys())\n",
    "print(student.values())\n",
    "print(student.items())"
   ]
  },
  {
   "cell_type": "markdown",
   "metadata": {},
   "source": [
    "## Shallow copy - this wil allocate separete memory and will not point at same address where we copied the data from "
   ]
  },
  {
   "cell_type": "code",
   "execution_count": 11,
   "metadata": {},
   "outputs": [
    {
     "name": "stdout",
     "output_type": "stream",
     "text": [
      "{'name': 'Krish', 'age': 33, 'address': 'India'}\n",
      "{'name': 'Krish', 'age': 33, 'address': 'India'}\n"
     ]
    }
   ],
   "source": [
    "student_copy = student\n",
    "print(student)\n",
    "print(student_copy)"
   ]
  },
  {
   "cell_type": "code",
   "execution_count": 15,
   "metadata": {},
   "outputs": [
    {
     "name": "stdout",
     "output_type": "stream",
     "text": [
      "{'name': 'Anand 2', 'age': 33, 'address': 'India'}\n",
      "{'name': 'Anand 2', 'age': 33, 'address': 'India'}\n"
     ]
    }
   ],
   "source": [
    "student[\"name\"] = \"Anand 2\"\n",
    "print(student)\n",
    "print(student_copy)"
   ]
  },
  {
   "cell_type": "code",
   "execution_count": 16,
   "metadata": {},
   "outputs": [
    {
     "name": "stdout",
     "output_type": "stream",
     "text": [
      "{'name': 'Aanand', 'age': 33, 'address': 'India'}\n",
      "{'name': 'Anand 2', 'age': 33, 'address': 'India'}\n"
     ]
    }
   ],
   "source": [
    "student_shallow_copy = student.copy()\n",
    "student[\"name\"] = \"Aanand\"\n",
    "print(student)\n",
    "print(student_shallow_copy)"
   ]
  },
  {
   "cell_type": "code",
   "execution_count": 18,
   "metadata": {},
   "outputs": [
    {
     "name": "stdout",
     "output_type": "stream",
     "text": [
      "name\n",
      "age\n",
      "address\n",
      "Aanand\n",
      "33\n",
      "India\n",
      "name:Aanand\n",
      "age:33\n",
      "address:India\n"
     ]
    }
   ],
   "source": [
    "# iteration over keys\n",
    "for i in student.keys():\n",
    "    print(i)\n",
    "\n",
    "for i in student.values():\n",
    "    print(i)\n",
    "\n",
    "for i,j in student.items():\n",
    "    print(f\"{i}:{j}\")"
   ]
  },
  {
   "cell_type": "code",
   "execution_count": 20,
   "metadata": {},
   "outputs": [
    {
     "name": "stdout",
     "output_type": "stream",
     "text": [
      "{'student1': {'name': 'Anand Raj', 'grade': 'A', 'age': 24}, 'student2': {'name': 'Yogesh Raj', 'grade': 'B', 'age': 26}, 'student3': {'name': 'shivam Raj', 'grade': 'A', 'age': 23}}\n"
     ]
    }
   ],
   "source": [
    "# Nested dictionaries , this is how most of no SQL databases like Mongo DB stores the data\n",
    "students = {\n",
    "    \"student1\" : {\"name\":\"Anand Raj\",\"grade\":\"A\",\"age\":24},\n",
    "    \"student2\" : {\"name\":\"Yogesh Raj\",\"grade\":\"B\",\"age\":26},\n",
    "    \"student3\" : {\"name\":\"shivam Raj\",\"grade\":\"A\",\"age\":23}\n",
    "}\n",
    "print(students)\n"
   ]
  },
  {
   "cell_type": "code",
   "execution_count": 21,
   "metadata": {},
   "outputs": [
    {
     "name": "stdout",
     "output_type": "stream",
     "text": [
      "24\n"
     ]
    }
   ],
   "source": [
    "print(students[\"student1\"][\"age\"])"
   ]
  },
  {
   "cell_type": "code",
   "execution_count": 22,
   "metadata": {},
   "outputs": [
    {
     "name": "stdout",
     "output_type": "stream",
     "text": [
      "{0: 0, 1: 1, 2: 4, 3: 9, 4: 16, 5: 25, 6: 36, 7: 49}\n"
     ]
    }
   ],
   "source": [
    "# Dictionary comprenhension\n",
    "squares = { x:x**2 for x in range(8)}\n",
    "print(squares)"
   ]
  },
  {
   "cell_type": "code",
   "execution_count": 23,
   "metadata": {},
   "outputs": [
    {
     "name": "stdout",
     "output_type": "stream",
     "text": [
      "{0: 0, 2: 4, 4: 16, 6: 36, 8: 64, 10: 100, 12: 144, 14: 196, 16: 256, 18: 324}\n"
     ]
    }
   ],
   "source": [
    "#Conditional dictionary comprehension\n",
    "con_square = {x:x**2 for x in range(20) if x%2 == 0}\n",
    "print(con_square)"
   ]
  },
  {
   "cell_type": "code",
   "execution_count": 24,
   "metadata": {},
   "outputs": [
    {
     "name": "stdout",
     "output_type": "stream",
     "text": [
      "{1: 3, 2: 3, 3: 4, 4: 2, 5: 2, 6: 1}\n"
     ]
    }
   ],
   "source": [
    "# Use dictionary to count the frequency of elements in a list\n",
    "numbers = [1,2,3,1,2,3,4,1,2,3,4,5,6,5,3]\n",
    "result= dict()\n",
    "for i in numbers:\n",
    "    if i in result.keys():\n",
    "        result[i] = result[i]+1\n",
    "    else:\n",
    "        result[i] = 1\n",
    "\n",
    "print(result)"
   ]
  },
  {
   "cell_type": "code",
   "execution_count": 26,
   "metadata": {},
   "outputs": [
    {
     "name": "stdout",
     "output_type": "stream",
     "text": [
      "{'a': 1, 'b': 3, 'c': 4}\n"
     ]
    }
   ],
   "source": [
    "# Merging two dictionaries into one\n",
    "dict1 = {\"a\":1,\"b\":2}\n",
    "dict2 = {\"b\":3,\"c\":4}\n",
    "merge_dict = {**dict1,**dict2} # using keyword argument to merge dictionaries\n",
    "print(merge_dict)"
   ]
  },
  {
   "cell_type": "code",
   "execution_count": null,
   "metadata": {},
   "outputs": [],
   "source": [
    " "
   ]
  }
 ],
 "metadata": {
  "kernelspec": {
   "display_name": "Python 3",
   "language": "python",
   "name": "python3"
  },
  "language_info": {
   "codemirror_mode": {
    "name": "ipython",
    "version": 3
   },
   "file_extension": ".py",
   "mimetype": "text/x-python",
   "name": "python",
   "nbconvert_exporter": "python",
   "pygments_lexer": "ipython3",
   "version": "3.9.4"
  }
 },
 "nbformat": 4,
 "nbformat_minor": 2
}
