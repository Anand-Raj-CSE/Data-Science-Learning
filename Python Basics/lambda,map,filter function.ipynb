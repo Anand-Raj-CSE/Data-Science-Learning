{
 "cells": [
  {
   "cell_type": "markdown",
   "metadata": {},
   "source": [
    "Lambda functions, these are anonymous functions defined using the lambda keyword.They can have any number of arguments but only one expression. They are commonly used for short operations or as arguments to higher-order functions."
   ]
  },
  {
   "cell_type": "code",
   "execution_count": 2,
   "metadata": {},
   "outputs": [
    {
     "data": {
      "text/plain": [
       "5"
      ]
     },
     "execution_count": 2,
     "metadata": {},
     "output_type": "execute_result"
    }
   ],
   "source": [
    "def addition(a,b):\n",
    "    return a+b\n",
    "\n",
    "addition(2,3)\n",
    "\n"
   ]
  },
  {
   "cell_type": "code",
   "execution_count": 3,
   "metadata": {},
   "outputs": [
    {
     "name": "stdout",
     "output_type": "stream",
     "text": [
      "<class 'function'>\n",
      "5\n"
     ]
    }
   ],
   "source": [
    "addition = lambda a,b:a+b\n",
    "print(type(addition))\n",
    "print(addition(2,3))"
   ]
  },
  {
   "cell_type": "code",
   "execution_count": 4,
   "metadata": {},
   "outputs": [
    {
     "name": "stdout",
     "output_type": "stream",
     "text": [
      "False\n"
     ]
    }
   ],
   "source": [
    "even1 = lambda num:num%2==0\n",
    "\n",
    "print(even1(45))"
   ]
  },
  {
   "cell_type": "markdown",
   "metadata": {},
   "source": [
    "Map , it applies a given method on a given iterable in second iterable , it is used to make a list or to transform a list comprehensively.Map uses lazy loading technique , which means it is not completely "
   ]
  },
  {
   "cell_type": "code",
   "execution_count": 7,
   "metadata": {},
   "outputs": [
    {
     "name": "stdout",
     "output_type": "stream",
     "text": [
      "<map object at 0x000001D5615AABE0>\n",
      "[1, 4, 9, 16, 25, 36, 49, 64, 81, 100]\n"
     ]
    }
   ],
   "source": [
    "# finding squares using lambda\n",
    "numbers = [1,2,3,4,5,6,7,8,9,10]\n",
    "print(map(lambda x:x**2 , numbers)) # map uses lazy loading technique , which means it is not completely utlized\n",
    "print(list(map(lambda x:x**2 , numbers)))"
   ]
  },
  {
   "cell_type": "code",
   "execution_count": 8,
   "metadata": {},
   "outputs": [
    {
     "name": "stdout",
     "output_type": "stream",
     "text": [
      "[6, 8, 10, 12]\n"
     ]
    }
   ],
   "source": [
    "# Map on multiple iterables\n",
    "num1 = [1,2,3,4]\n",
    "num2 = [5,6,7,8]\n",
    "added_nums = list(map(lambda x,y:x+y , num1,num2))\n",
    "print(added_nums)"
   ]
  },
  {
   "cell_type": "code",
   "execution_count": 9,
   "metadata": {},
   "outputs": [
    {
     "name": "stdout",
     "output_type": "stream",
     "text": [
      "[1, 2, 3, 4, 5, 6]\n"
     ]
    }
   ],
   "source": [
    "# map to change numbers from string\n",
    "string_num = ['1','2','3','4','5','6']\n",
    "my_nums = list(map(int,string_num))\n",
    "print(my_nums)"
   ]
  },
  {
   "cell_type": "code",
   "execution_count": 10,
   "metadata": {},
   "outputs": [
    {
     "name": "stdout",
     "output_type": "stream",
     "text": [
      "['APPLES', 'BANANA', 'CHERRY']\n"
     ]
    }
   ],
   "source": [
    "\n",
    "words = ['apples','banana','cherry']\n",
    "uper_words = list(map(str.upper,words))\n",
    "print(uper_words)"
   ]
  },
  {
   "cell_type": "code",
   "execution_count": 15,
   "metadata": {},
   "outputs": [
    {
     "name": "stdout",
     "output_type": "stream",
     "text": [
      "['Anand', 'Aman', 'himanshu']\n"
     ]
    }
   ],
   "source": [
    "def get_name(person):\n",
    "    return person['name']\n",
    "\n",
    "people=[\n",
    "    {'name':\"Anand\",'age' : 24},\n",
    "    {'name':\"Aman\",'age' : 25},\n",
    "    {'name':\"himanshu\",'age' : 27}\n",
    "]\n",
    "\n",
    "print(list(map(get_name,people)))\n"
   ]
  },
  {
   "cell_type": "markdown",
   "metadata": {},
   "source": [
    "Filter(), it constructs an iterator from elements of an iterable for which a function returns true. It is used to filter out items from a list (or any other iterable) based on the condition."
   ]
  },
  {
   "cell_type": "code",
   "execution_count": 20,
   "metadata": {},
   "outputs": [
    {
     "name": "stdout",
     "output_type": "stream",
     "text": [
      "True\n",
      "[2, 4, 6, 8, 6, 4, 44, 54]\n"
     ]
    }
   ],
   "source": [
    "lst = [1,2,3,4,5,6,8,9,7,5,6,45,65,4,44,54,55,45]\n",
    "def even(n):\n",
    "    return n%2 == 0\n",
    "\n",
    "print(even(2))\n",
    "print(list(filter(even,lst))) # This would give us all the even elements"
   ]
  },
  {
   "cell_type": "code",
   "execution_count": 21,
   "metadata": {},
   "outputs": [
    {
     "name": "stdout",
     "output_type": "stream",
     "text": [
      "[6, 8, 9, 7, 6, 45, 65, 44, 54, 55, 45]\n"
     ]
    }
   ],
   "source": [
    "greater_than_five = list(filter(lambda x:x>5,lst))\n",
    "print(greater_than_five)"
   ]
  },
  {
   "cell_type": "code",
   "execution_count": 23,
   "metadata": {},
   "outputs": [
    {
     "name": "stdout",
     "output_type": "stream",
     "text": [
      "[6, 8, 6, 44, 54]\n"
     ]
    }
   ],
   "source": [
    "# Filter with lambda and multiple conditions\n",
    "lst = [1,2,3,4,5,6,8,9,7,5,6,45,65,4,44,54,55,45]\n",
    "even_and_greater_tahn_five = list(filter(lambda x:x%2==0 and x>5 , lst))\n",
    "print(even_and_greater_tahn_five)"
   ]
  },
  {
   "cell_type": "code",
   "execution_count": 24,
   "metadata": {},
   "outputs": [
    {
     "name": "stdout",
     "output_type": "stream",
     "text": [
      "[{'name': 'himanshu', 'age': 27}, {'name': 'Anshu', 'age': 28}, {'name': 'Hritik', 'age': 29}]\n"
     ]
    }
   ],
   "source": [
    "#apply filter to check weather age is greater than 25 in dictionary\n",
    "people=[\n",
    "    {'name':\"Anand\",'age' : 24},\n",
    "    {'name':\"Aman\",'age' : 25},\n",
    "    {'name':\"himanshu\",'age' : 27},\n",
    "    {'name':\"Anshu\",'age' : 28},\n",
    "    {'name':\"Hritik\",'age' : 29},\n",
    "    {'name':\"Pika\",'age' : 23}\n",
    "]\n",
    "\n",
    "def greater_than_25(person):\n",
    "    return person['age'] > 25\n",
    "\n",
    "print(list(filter(greater_than_25,people)))\n",
    "\n"
   ]
  },
  {
   "cell_type": "code",
   "execution_count": null,
   "metadata": {},
   "outputs": [],
   "source": []
  }
 ],
 "metadata": {
  "kernelspec": {
   "display_name": "Python 3",
   "language": "python",
   "name": "python3"
  },
  "language_info": {
   "codemirror_mode": {
    "name": "ipython",
    "version": 3
   },
   "file_extension": ".py",
   "mimetype": "text/x-python",
   "name": "python",
   "nbconvert_exporter": "python",
   "pygments_lexer": "ipython3",
   "version": "3.9.4"
  }
 },
 "nbformat": 4,
 "nbformat_minor": 2
}
