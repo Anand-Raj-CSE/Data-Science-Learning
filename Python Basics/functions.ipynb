{
 "cells": [
  {
   "cell_type": "code",
   "execution_count": 1,
   "metadata": {},
   "outputs": [
    {
     "name": "stdout",
     "output_type": "stream",
     "text": [
      "1\n",
      "2\n",
      "3\n",
      "4\n",
      "5\n",
      "6\n",
      "7\n",
      "8\n",
      "krish\n"
     ]
    }
   ],
   "source": [
    "# positional arguments\n",
    "def print_numbers(*args):\n",
    "    for number in args:\n",
    "        print(number)\n",
    "\n",
    "print_numbers(1,2,3,4,5,6,7,8,\"krish\")"
   ]
  },
  {
   "cell_type": "code",
   "execution_count": 4,
   "metadata": {},
   "outputs": [
    {
     "name": "stdout",
     "output_type": "stream",
     "text": [
      "name : anand\n",
      "age : 24\n",
      "grade : A\n"
     ]
    }
   ],
   "source": [
    "# Keyword argument , all the arguments in pair of key , value pairs\n",
    "def print_details(**kwargs):\n",
    "    for key,value in kwargs.items():\n",
    "        print(f\"{key} : {value}\")\n",
    "\n",
    "\n",
    "print_details(name=\"anand\",age=24,grade=\"A\")"
   ]
  },
  {
   "cell_type": "code",
   "execution_count": 8,
   "metadata": {},
   "outputs": [
    {
     "name": "stdout",
     "output_type": "stream",
     "text": [
      "Positional argument : 1\n",
      "Positional argument : 2\n",
      "Positional argument : 3\n",
      "Positional argument : 4\n",
      "Positional argument : 5\n",
      "Positional argument : 6\n",
      "Positional argument : 7\n",
      "Positional argument : 8\n",
      "Positional argument : 99\n",
      "kwargsname : anand\n",
      "kwargsage : 24\n",
      "kwargsgrade : A\n"
     ]
    }
   ],
   "source": [
    "def all_args(*args,**kwargs):\n",
    "    for val in args:\n",
    "        print(f\"Positional argument : {val}\")\n",
    "    for key,value in kwargs.items():\n",
    "        print(f\"kwargs{key} : {value}\")\n",
    "\n",
    "# We could not place args after kwargs , while passing order matters a lot else it will throw an error\n",
    "all_args(1,2,3,4,5,6,7,8,99,name=\"anand\",age=24,grade=\"A\")  "
   ]
  },
  {
   "cell_type": "code",
   "execution_count": 9,
   "metadata": {},
   "outputs": [
    {
     "name": "stdout",
     "output_type": "stream",
     "text": [
      "77.0\n",
      "25.0\n"
     ]
    }
   ],
   "source": [
    "def temp_converter(temp,unit):\n",
    "    \"\"\"This is doc string , this is used to let know what his function does\"\"\"\n",
    "    if unit.lower() == 'c':\n",
    "        return temp*9/5 + 32 # Celsius to fahrenheight\n",
    "    elif unit.lower() == 'f':\n",
    "        return (temp-32)*5/9\n",
    "    else:\n",
    "        return None\n",
    "    \n",
    "print(temp_converter(25,'C'))\n",
    "print(temp_converter(77,'F'))"
   ]
  },
  {
   "cell_type": "code",
   "execution_count": 10,
   "metadata": {},
   "outputs": [
    {
     "name": "stdout",
     "output_type": "stream",
     "text": [
      "False\n",
      "False\n",
      "True\n"
     ]
    }
   ],
   "source": [
    "# Password strengthh checker\n",
    "def is_strong_pass(password):\n",
    "    if len(password)<8:\n",
    "        return False\n",
    "    if not any(char.isdigit() for char in password):\n",
    "        return False\n",
    "    if not any(char.islower() for char in password):\n",
    "        return False\n",
    "    if not any(char.isupper() for char in password):\n",
    "        return False\n",
    "    if not any(char in '!@#$%^&*()_+' for char in password):\n",
    "        return False\n",
    "    return True\n",
    "\n",
    "print(is_strong_pass(\"Weakpassword\"))\n",
    "print(is_strong_pass(\"Weakp123assword\"))\n",
    "print(is_strong_pass(\"Weakpa12255#$ssWrd\"))"
   ]
  },
  {
   "cell_type": "code",
   "execution_count": 3,
   "metadata": {},
   "outputs": [],
   "source": [
    "# cart price calculation\n",
    "def cart_price_cal (cart):\n",
    "    total_cost = 0\n",
    "    for item in cart:\n",
    "        total_cost += item[\"price\"]*item[\"qty\"]\n",
    "\n",
    "    return total_cost\n",
    "\n",
    "cart = [\n",
    "    {\"name\":\"apple\",\"price\":0.5,\"qty\":4},\n",
    "    {\"name\":\"banana\",\"price\":0.7,\"qty\":6},\n",
    "    {\"name\":\"guava\",\"price\":0.4,\"qty\":8},\n",
    "    {\"name\":\"mango\",\"price\":1,\"qty\":9}\n",
    "]\n"
   ]
  },
  {
   "cell_type": "code",
   "execution_count": 4,
   "metadata": {},
   "outputs": [
    {
     "name": "stdout",
     "output_type": "stream",
     "text": [
      "18.4\n"
     ]
    }
   ],
   "source": [
    "print(cart_price_cal(cart))"
   ]
  },
  {
   "cell_type": "code",
   "execution_count": 5,
   "metadata": {},
   "outputs": [
    {
     "name": "stdout",
     "output_type": "stream",
     "text": [
      "True\n",
      "False\n"
     ]
    }
   ],
   "source": [
    "# cheking for palindrom\n",
    "def is_palindrom(s):\n",
    "    s=s.lower().replace(\" \",\"\")\n",
    "    return s==s[::-1]\n",
    "\n",
    "print(is_palindrom(\"A man a plan a canal panama\"))\n",
    "print(is_palindrom(\"Hello\"))"
   ]
  },
  {
   "cell_type": "code",
   "execution_count": null,
   "metadata": {},
   "outputs": [],
   "source": []
  }
 ],
 "metadata": {
  "kernelspec": {
   "display_name": "Python 3",
   "language": "python",
   "name": "python3"
  },
  "language_info": {
   "codemirror_mode": {
    "name": "ipython",
    "version": 3
   },
   "file_extension": ".py",
   "mimetype": "text/x-python",
   "name": "python",
   "nbconvert_exporter": "python",
   "pygments_lexer": "ipython3",
   "version": "3.9.4"
  }
 },
 "nbformat": 4,
 "nbformat_minor": 2
}
