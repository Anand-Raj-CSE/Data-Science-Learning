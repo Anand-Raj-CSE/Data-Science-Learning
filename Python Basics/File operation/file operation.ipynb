{
 "cells": [
  {
   "cell_type": "code",
   "execution_count": 1,
   "metadata": {},
   "outputs": [
    {
     "name": "stdout",
     "output_type": "stream",
     "text": [
      "Hi I am Anand \n",
      "I am Associate working as Data Ananlyst at Cognizant Technoology Solutions also known as CTS\n",
      "I am interested to be a data Scientist .\n"
     ]
    }
   ],
   "source": [
    "# Reading a whole file\n",
    "\n",
    "with open('example.txt','r') as file:\n",
    "    content = file.read()\n",
    "    print(content)"
   ]
  },
  {
   "cell_type": "code",
   "execution_count": 4,
   "metadata": {},
   "outputs": [
    {
     "name": "stdout",
     "output_type": "stream",
     "text": [
      "Hi I am Anand \n",
      "\n",
      "I am Associate working as Data Ananlyst at Cognizant Technoology Solutions also known as CTS\n",
      "\n",
      "I am interested to be a data Scientist .\n",
      "Hi I am Anand\n",
      "I am Associate working as Data Ananlyst at Cognizant Technoology Solutions also known as CTS\n",
      "I am interested to be a data Scientist .\n"
     ]
    }
   ],
   "source": [
    "# Reading a file line by line\n",
    "with open('example.txt','r') as file:\n",
    "    for line in file: # It would take \\n as well\n",
    "        print(line)\n",
    "with open('example.txt','r') as file:\n",
    "    for line in file: # It would take \\n as well so we would strip\n",
    "        print(line.strip())\n",
    "    "
   ]
  },
  {
   "cell_type": "code",
   "execution_count": 5,
   "metadata": {},
   "outputs": [],
   "source": [
    "with open('example.txt','w') as file: # It will override the whole file\n",
    "    file.write('I am saying hello world.\\n')\n",
    "    file.write('This is a new file')\n"
   ]
  },
  {
   "cell_type": "code",
   "execution_count": 6,
   "metadata": {},
   "outputs": [],
   "source": [
    "# It will override the whole file when we open in w mode so openig in appaend mode 'a\n",
    "with open('example.txt','a') as file: \n",
    "    file.write('I am Anand Raj\\n')\n",
    "    file.write('I am an aspiring Data Scientist.\\n')\n",
    "    file.write('Append operation taking place')"
   ]
  },
  {
   "cell_type": "code",
   "execution_count": 7,
   "metadata": {},
   "outputs": [],
   "source": [
    "lines = ['First Line \\n', 'second line\\n','Third line']\n",
    "# We have write lines to append lines\n",
    "with open('example.txt','a') as file :\n",
    "    file.writelines(lines)"
   ]
  },
  {
   "cell_type": "markdown",
   "metadata": {},
   "source": [
    "File operation with binary files, created a example.bin file for same\n"
   ]
  },
  {
   "cell_type": "code",
   "execution_count": 8,
   "metadata": {},
   "outputs": [],
   "source": [
    "# We would use wb or rb for modes in case of binary files\n",
    "data = b'\\x00\\x01\\x02\\x03\\x04'\n",
    "with open ('example.bin','wb') as file :\n",
    "    file.write(data)"
   ]
  },
  {
   "cell_type": "code",
   "execution_count": 10,
   "metadata": {},
   "outputs": [
    {
     "name": "stdout",
     "output_type": "stream",
     "text": [
      "b'\\x00\\x01\\x02\\x03\\x04'\n"
     ]
    }
   ],
   "source": [
    "with open ('example.bin','rb') as file :\n",
    "    print(file.read())"
   ]
  },
  {
   "cell_type": "markdown",
   "metadata": {},
   "source": [
    "Reading a file from source and writing it to Destination file\n"
   ]
  },
  {
   "cell_type": "code",
   "execution_count": 11,
   "metadata": {},
   "outputs": [],
   "source": [
    "with open('example.txt','r') as file :\n",
    "    content = file.read()\n",
    "\n",
    "with open('destination.txt','w') as file :\n",
    "    file.write(content)"
   ]
  },
  {
   "cell_type": "markdown",
   "metadata": {},
   "source": [
    "Read the text file and count the number of words spaces and characters"
   ]
  },
  {
   "cell_type": "code",
   "execution_count": 15,
   "metadata": {},
   "outputs": [
    {
     "name": "stdout",
     "output_type": "stream",
     "text": [
      "148\n",
      "240\n",
      "0\n"
     ]
    }
   ],
   "source": [
    "words = 0\n",
    "spaces = 0\n",
    "characters = 0\n",
    "lincount = 0\n",
    "with open('example.txt','r') as file :\n",
    "    lines = file.readlines()\n",
    "    linecount = len(lines)\n",
    "    words = sum(len(line.strip()) for line in lines)\n",
    "    characters = sum(len(line) for linr in lines)\n",
    "\n",
    "print(words)\n",
    "print(characters)\n",
    "print(lincount)"
   ]
  },
  {
   "cell_type": "markdown",
   "metadata": {},
   "source": [
    "Writing and reading the file in W+ mode , it is going to overwrite it , if file doesn't exist then its going to make a file "
   ]
  },
  {
   "cell_type": "code",
   "execution_count": 7,
   "metadata": {},
   "outputs": [
    {
     "name": "stdout",
     "output_type": "stream",
     "text": [
      "Hello World, I have created a file .\n",
      "This is second line.\n",
      ", I have created a file .\n",
      "This is second line.\n"
     ]
    }
   ],
   "source": [
    "with open('sampleWPlus.txt',mode='w+') as file :\n",
    "    file.write(\"Hello World, I have created a file .\")\n",
    "    file.write(\"\\nThis is second line.\")\n",
    "\n",
    "    # Move to file pointer to beginning\n",
    "    file.seek(0)\n",
    "    content = file.read()\n",
    "    print(content)\n",
    "    file.seek(11)\n",
    "\n",
    "    content = file.read()\n",
    "\n",
    "    print(content)"
   ]
  },
  {
   "cell_type": "markdown",
   "metadata": {},
   "source": [
    "Working with directory\n"
   ]
  },
  {
   "cell_type": "code",
   "execution_count": 10,
   "metadata": {},
   "outputs": [
    {
     "name": "stdout",
     "output_type": "stream",
     "text": [
      "current working directory is d:\\Data Science Learning\\Python Basics\\File operation\n"
     ]
    }
   ],
   "source": [
    "\n",
    "import os\n",
    "cwd = os.getcwd()\n",
    "print(f\"current working directory is {cwd}\")"
   ]
  },
  {
   "cell_type": "code",
   "execution_count": null,
   "metadata": {},
   "outputs": [],
   "source": [
    "#making a new directory or folder\n",
    "new_directory = \"package\"\n",
    "os.mkdir(new_directory)"
   ]
  },
  {
   "cell_type": "code",
   "execution_count": null,
   "metadata": {},
   "outputs": [],
   "source": []
  }
 ],
 "metadata": {
  "kernelspec": {
   "display_name": "Python 3",
   "language": "python",
   "name": "python3"
  },
  "language_info": {
   "codemirror_mode": {
    "name": "ipython",
    "version": 3
   },
   "file_extension": ".py",
   "mimetype": "text/x-python",
   "name": "python",
   "nbconvert_exporter": "python",
   "pygments_lexer": "ipython3",
   "version": "3.9.4"
  }
 },
 "nbformat": 4,
 "nbformat_minor": 2
}
