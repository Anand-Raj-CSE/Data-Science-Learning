{
 "cells": [
  {
   "cell_type": "code",
   "execution_count": 1,
   "metadata": {},
   "outputs": [
    {
     "name": "stdout",
     "output_type": "stream",
     "text": [
      "Hi I am Anand \n",
      "I am Associate working as Data Ananlyst at Cognizant Technoology Solutions also known as CTS\n",
      "I am interested to be a data Scientist .\n"
     ]
    }
   ],
   "source": [
    "# Reading a whole file\n",
    "\n",
    "with open('example.txt','r') as file:\n",
    "    content = file.read()\n",
    "    print(content)"
   ]
  },
  {
   "cell_type": "code",
   "execution_count": 4,
   "metadata": {},
   "outputs": [
    {
     "name": "stdout",
     "output_type": "stream",
     "text": [
      "Hi I am Anand \n",
      "\n",
      "I am Associate working as Data Ananlyst at Cognizant Technoology Solutions also known as CTS\n",
      "\n",
      "I am interested to be a data Scientist .\n",
      "Hi I am Anand\n",
      "I am Associate working as Data Ananlyst at Cognizant Technoology Solutions also known as CTS\n",
      "I am interested to be a data Scientist .\n"
     ]
    }
   ],
   "source": [
    "# Reading a file line by line\n",
    "with open('example.txt','r') as file:\n",
    "    for line in file: # It would take \\n as well\n",
    "        print(line)\n",
    "with open('example.txt','r') as file:\n",
    "    for line in file: # It would take \\n as well so we would strip\n",
    "        print(line.strip())\n",
    "    "
   ]
  },
  {
   "cell_type": "code",
   "execution_count": 5,
   "metadata": {},
   "outputs": [],
   "source": [
    "with open('example.txt','w') as file: # It will override the whole file\n",
    "    file.write('I am saying hello world.\\n')\n",
    "    file.write('This is a new file')\n"
   ]
  },
  {
   "cell_type": "code",
   "execution_count": 6,
   "metadata": {},
   "outputs": [],
   "source": [
    "# It will override the whole file when we open in w mode so openig in appaend mode 'a\n",
    "with open('example.txt','a') as file: \n",
    "    file.write('I am Anand Raj\\n')\n",
    "    file.write('I am an aspiring Data Scientist.\\n')\n",
    "    file.write('Append operation taking place')"
   ]
  },
  {
   "cell_type": "code",
   "execution_count": 7,
   "metadata": {},
   "outputs": [],
   "source": [
    "lines = ['First Line \\n', 'second line\\n','Third line']\n",
    "# We have write lines to append lines\n",
    "with open('example.txt','a') as file :\n",
    "    file.writelines(lines)"
   ]
  },
  {
   "cell_type": "code",
   "execution_count": null,
   "metadata": {},
   "outputs": [],
   "source": []
  }
 ],
 "metadata": {
  "kernelspec": {
   "display_name": "Python 3",
   "language": "python",
   "name": "python3"
  },
  "language_info": {
   "codemirror_mode": {
    "name": "ipython",
    "version": 3
   },
   "file_extension": ".py",
   "mimetype": "text/x-python",
   "name": "python",
   "nbconvert_exporter": "python",
   "pygments_lexer": "ipython3",
   "version": "3.9.4"
  }
 },
 "nbformat": 4,
 "nbformat_minor": 2
}
