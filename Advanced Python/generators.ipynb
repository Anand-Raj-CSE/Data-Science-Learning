{
 "cells": [
  {
   "cell_type": "markdown",
   "metadata": {},
   "source": [
    "Generator are simpler wyas to produce iterators. They generate values in the fly and do not occupy memory."
   ]
  },
  {
   "cell_type": "code",
   "execution_count": 1,
   "metadata": {},
   "outputs": [],
   "source": [
    "def square(n):\n",
    "    for i in range(3):\n",
    "        return i**2"
   ]
  },
  {
   "cell_type": "code",
   "execution_count": 3,
   "metadata": {},
   "outputs": [
    {
     "data": {
      "text/plain": [
       "0"
      ]
     },
     "execution_count": 3,
     "metadata": {},
     "output_type": "execute_result"
    }
   ],
   "source": [
    "square(3) # It will give 0  as i is 0 initially."
   ]
  },
  {
   "cell_type": "code",
   "execution_count": 4,
   "metadata": {},
   "outputs": [],
   "source": [
    "def square(n):\n",
    "    for i in range(3):\n",
    "        yield i**2"
   ]
  },
  {
   "cell_type": "code",
   "execution_count": 6,
   "metadata": {},
   "outputs": [
    {
     "name": "stdout",
     "output_type": "stream",
     "text": [
      "0\n",
      "1\n",
      "4\n"
     ]
    }
   ],
   "source": [
    "for i in square(3):\n",
    "    print(i)"
   ]
  },
  {
   "cell_type": "code",
   "execution_count": 7,
   "metadata": {},
   "outputs": [
    {
     "name": "stdout",
     "output_type": "stream",
     "text": [
      "0\n",
      "1\n",
      "4\n"
     ]
    }
   ],
   "source": [
    "a=square(3)\n",
    "print(next(a))\n",
    "print(next(a))\n",
    "print(next(a))"
   ]
  },
  {
   "cell_type": "code",
   "execution_count": 8,
   "metadata": {},
   "outputs": [],
   "source": [
    "def my_generator():\n",
    "    yield 1 \n",
    "    yield 2\n",
    "    yield 3    "
   ]
  },
  {
   "cell_type": "code",
   "execution_count": 9,
   "metadata": {},
   "outputs": [
    {
     "name": "stdout",
     "output_type": "stream",
     "text": [
      "1\n"
     ]
    }
   ],
   "source": [
    "gen1 = my_generator()\n",
    "print(next(gen1))"
   ]
  },
  {
   "cell_type": "code",
   "execution_count": 10,
   "metadata": {},
   "outputs": [
    {
     "name": "stdout",
     "output_type": "stream",
     "text": [
      "2\n",
      "3\n"
     ]
    }
   ],
   "source": [
    "for i in gen1:\n",
    "    print(i)"
   ]
  },
  {
   "cell_type": "markdown",
   "metadata": {},
   "source": [
    "Reading large files using generators as they load a line from a large file.\n"
   ]
  },
  {
   "cell_type": "code",
   "execution_count": 11,
   "metadata": {},
   "outputs": [],
   "source": [
    "def read_large_file(filepath):\n",
    "    with open(filepath , \"r\") as file :\n",
    "        for line in file :\n",
    "            yield line"
   ]
  },
  {
   "cell_type": "code",
   "execution_count": 12,
   "metadata": {},
   "outputs": [
    {
     "name": "stdout",
     "output_type": "stream",
     "text": [
      "Swami Vivekananda[a] (12 January 1863 â€“ 4 July 1902), born Narendranath Datta[b] was an Indian Hindu monk, philosopher, author, religious teacher, and the chief disciple of the Indian mystic Ramakrishna.[4][5] He was a key figure in the introduction of Vedanta and Yoga to the Western world.[6][7][8] He is credited with raising interfaith awareness and bringing Hinduism to the status of a major world religion in the late nineteenth century.[9]\n",
      "\n",
      "Born into an aristocratic Bengali Kayastha family in Calcutta, Vivekananda was inclined from a young age towards religion and spirituality. At the age of 18 he met Ramakrishna, later becoming a devoted follower and sannyasin (renunciate). After the death of Ramakrishna, Vivekananda toured the Indian subcontinent as a wandering monk and acquired first-hand knowledge of the often terrible living conditions of Indian people in then British India. In 1893 he traveled to the United States where he participated in the Parliament of Religions in Chicago. Here he delivered a famous speech beginning with the words: \"Sisters and brothers of America ...\" introducing the ancient Hindu religious tradition to Americans and speaking forcefully about the essential unity of all spiritual paths, and the necessity of embracing tolerance and renouncing fanaticism.[10][11] The speech made an extraordinary impression. One American newspaper described him as \"an orator by divine right and undoubtedly the greatest figure at the Parliament\".[12]\n",
      "\n",
      "After the great success of the Parliament, Vivekananda delivered hundreds of lectures across the United States, England, and Europe, disseminating the core tenets of Hindu philosophy. He founded the Vedanta Society of New York and the Vedanta Society of San Francisco (now Vedanta Society of Northern California),[13] which became the foundations for Vedanta Societies in the West. In India, he founded the Ramakrishna Math, which provides spiritual training for monastics and householders, and the Ramakrishna Mission, which provides charity, social work and education.[7]\n",
      "\n",
      "Vivekananda is widely regarded as one of the greatest figures of modern India. He was one of the most influential philosophers and social reformers of his time, and the most successful missionary of Vedanta to the Western world. He was a major force in contemporary Hindu reform movements and in the development of nationalism in colonial India.[14] He is considered to be a patriotic saint. His birthday is celebrated in India as National Youth Day.\n"
     ]
    }
   ],
   "source": [
    "file_path = 'big text file.txt'\n",
    "for line in read_large_file(file_path):\n",
    "    print(line.strip())"
   ]
  },
  {
   "cell_type": "code",
   "execution_count": null,
   "metadata": {},
   "outputs": [],
   "source": []
  }
 ],
 "metadata": {
  "kernelspec": {
   "display_name": "Python 3",
   "language": "python",
   "name": "python3"
  },
  "language_info": {
   "codemirror_mode": {
    "name": "ipython",
    "version": 3
   },
   "file_extension": ".py",
   "mimetype": "text/x-python",
   "name": "python",
   "nbconvert_exporter": "python",
   "pygments_lexer": "ipython3",
   "version": "3.9.4"
  }
 },
 "nbformat": 4,
 "nbformat_minor": 2
}
