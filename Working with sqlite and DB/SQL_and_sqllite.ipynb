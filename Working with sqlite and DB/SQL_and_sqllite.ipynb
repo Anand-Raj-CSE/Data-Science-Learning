{
  "cells": [
    {
      "cell_type": "markdown",
      "metadata": {
        "id": "Jw9BtUkQtzuR"
      },
      "source": [
        "SQL lite is self -contained , serverless and zero configuration database engine that is widely used in embedded databse systems."
      ]
    },
    {
      "cell_type": "code",
      "execution_count": 1,
      "metadata": {
        "id": "XcSwCmcQtDs-"
      },
      "outputs": [],
      "source": [
        "# With pythono 3 sql lite is installed on its own , we donot need to pip\n",
        "import sqlite3 as sql"
      ]
    },
    {
      "cell_type": "code",
      "execution_count": 2,
      "metadata": {
        "id": "Laveuhpqty56"
      },
      "outputs": [],
      "source": [
        "# made a db\n",
        "connection = sql.connect('example.db')"
      ]
    },
    {
      "cell_type": "code",
      "execution_count": 3,
      "metadata": {
        "id": "Z7Yv7Dftty3M"
      },
      "outputs": [],
      "source": [
        "cursor = connection.cursor()"
      ]
    },
    {
      "cell_type": "code",
      "execution_count": 4,
      "metadata": {
        "id": "w-uyxXcawRKm"
      },
      "outputs": [],
      "source": [
        "\n",
        "# Creating a table using cursor object\n",
        "cursor.execute('''\n",
        "Create Table If Not Exists employees(\n",
        "  id Integer Primary Key,\n",
        "  name Text Not Null,\n",
        "  age Integer,\n",
        "  department text\n",
        "  )\n",
        "''')\n",
        "\n",
        "#Comminting the cahnges\n",
        "connection.commit()"
      ]
    },
    {
      "cell_type": "code",
      "execution_count": 5,
      "metadata": {
        "colab": {
          "base_uri": "https://localhost:8080/"
        },
        "id": "GAHhyODBw_A8",
        "outputId": "47cb52f4-0b7e-4779-ec50-2aaa953a7fe8"
      },
      "outputs": [
        {
          "data": {
            "text/plain": [
              "<sqlite3.Cursor at 0x2a74995f340>"
            ]
          },
          "execution_count": 5,
          "metadata": {},
          "output_type": "execute_result"
        }
      ],
      "source": [
        "cursor.execute('''\n",
        "Select * from employees\n",
        "''')"
      ]
    },
    {
      "cell_type": "code",
      "execution_count": 6,
      "metadata": {
        "colab": {
          "base_uri": "https://localhost:8080/"
        },
        "id": "mQj3ENN6xeXS",
        "outputId": "d82cea81-bf3a-40a3-875e-a5d69b8b3047"
      },
      "outputs": [
        {
          "data": {
            "text/plain": [
              "<sqlite3.Cursor at 0x2a74995f340>"
            ]
          },
          "execution_count": 6,
          "metadata": {},
          "output_type": "execute_result"
        }
      ],
      "source": [
        "# Inserting the data\n",
        "cursor.execute('''\n",
        "INSERT INTO employees (id,name,age,department) values (101,'ANAND RAJ',24,'DATA SCIENCE')\n",
        "''')"
      ]
    },
    {
      "cell_type": "code",
      "execution_count": 7,
      "metadata": {
        "id": "OENDUDFrz4cb"
      },
      "outputs": [],
      "source": [
        "# cursor.execute('''\n",
        "# INSERT INTO employees (id,name,age,department) values (101,'ANAND RAJ',24,'DATA SCIENCE')\n",
        "# ''')\n",
        "# cursor.execute('''\n",
        "# INSERT INTO employees (id,name,age,department) values (102,'HIMANSHU',24,'QEA');\n",
        "# ''')\n",
        "\n",
        "cursor.execute('''\n",
        "INSERT INTO employees (id,name,age,department) values (103,'KRISH',32,'DATA SCIENCE');\n",
        "''')\n",
        "\n",
        "cursor.execute('''\n",
        "INSERT INTO employees (id,name,age,department) values (104,'HARIOM',24,'OPERATIONS');\n",
        "''')\n",
        "\n",
        "cursor.execute('''\n",
        "INSERT INTO employees (id,name,age,department) values (105,'SHWETA',24,'HR')\n",
        "''')\n",
        "\n",
        "cursor.execute('''\n",
        "INSERT INTO employees (id,name,age,department) values (106,'ANURAG BANSAL',26,'WEB DEVELOPMENT')\n",
        "''')\n",
        "\n",
        "cursor.execute('''\n",
        "INSERT INTO employees (id,name,age,department) values (107,'ABHINAV GAUR',24,'WEB DEVELOPMENT')\n",
        "''')\n",
        "\n",
        "connection.commit() # always commit the changes , it will update the data in the table"
      ]
    },
    {
      "cell_type": "code",
      "execution_count": 8,
      "metadata": {
        "colab": {
          "base_uri": "https://localhost:8080/"
        },
        "id": "3jQqqY9v0Q8e",
        "outputId": "9523dda8-b0ae-4361-8355-764caab99960"
      },
      "outputs": [
        {
          "data": {
            "text/plain": [
              "<sqlite3.Cursor at 0x2a74995f340>"
            ]
          },
          "execution_count": 8,
          "metadata": {},
          "output_type": "execute_result"
        }
      ],
      "source": [
        "cursor.execute('''\n",
        "Select * from employees\n",
        "''')"
      ]
    },
    {
      "cell_type": "code",
      "execution_count": 9,
      "metadata": {
        "colab": {
          "base_uri": "https://localhost:8080/"
        },
        "id": "d_biHba81OS3",
        "outputId": "625071d9-0532-4e52-bddb-02c4e862c8dc"
      },
      "outputs": [
        {
          "name": "stdout",
          "output_type": "stream",
          "text": [
            "(101, 'ANAND RAJ', 24, 'DATA SCIENCE')\n",
            "(103, 'KRISH', 32, 'DATA SCIENCE')\n",
            "(104, 'HARIOM', 24, 'OPERATIONS')\n",
            "(105, 'SHWETA', 24, 'HR')\n",
            "(106, 'ANURAG BANSAL', 26, 'WEB DEVELOPMENT')\n",
            "(107, 'ABHINAV GAUR', 24, 'WEB DEVELOPMENT')\n"
          ]
        }
      ],
      "source": [
        "# Querying the data from table\n",
        "cursor.execute('Select * from employees')\n",
        "rows = cursor.fetchall()\n",
        "\n",
        "for row in rows:\n",
        "  print(row)"
      ]
    },
    {
      "cell_type": "code",
      "execution_count": 10,
      "metadata": {
        "id": "T9U7phtr1luz"
      },
      "outputs": [],
      "source": [
        "cursor.execute('''\n",
        "UPDATE employees\n",
        "SET age = 34 where name = 'KRISH'\n",
        "''')\n",
        "\n",
        "connection.commit()"
      ]
    },
    {
      "cell_type": "code",
      "execution_count": 11,
      "metadata": {
        "colab": {
          "base_uri": "https://localhost:8080/"
        },
        "id": "-J3wz7ki19v0",
        "outputId": "a6a0a2d7-9352-4880-e57c-265706982157"
      },
      "outputs": [
        {
          "name": "stdout",
          "output_type": "stream",
          "text": [
            "(101, 'ANAND RAJ', 24, 'DATA SCIENCE')\n",
            "(103, 'KRISH', 34, 'DATA SCIENCE')\n",
            "(104, 'HARIOM', 24, 'OPERATIONS')\n",
            "(105, 'SHWETA', 24, 'HR')\n",
            "(106, 'ANURAG BANSAL', 26, 'WEB DEVELOPMENT')\n",
            "(107, 'ABHINAV GAUR', 24, 'WEB DEVELOPMENT')\n"
          ]
        }
      ],
      "source": [
        "cursor.execute('Select * from employees')\n",
        "rows = cursor.fetchall()\n",
        "\n",
        "for row in rows:\n",
        "  print(row)"
      ]
    },
    {
      "cell_type": "code",
      "execution_count": 12,
      "metadata": {
        "id": "3zj6sybZ2BUV"
      },
      "outputs": [],
      "source": [
        "# Made a function to see tha data from the table\n",
        "def getdata(sqlite3):\n",
        "  sqlite3.execute('Select * from employees')\n",
        "  rows = sqlite3.fetchall()\n",
        "\n",
        "  for row in rows:\n",
        "    print(row)"
      ]
    },
    {
      "cell_type": "code",
      "execution_count": 13,
      "metadata": {
        "colab": {
          "base_uri": "https://localhost:8080/"
        },
        "id": "cqrmQZeP2QXf",
        "outputId": "4c9834e3-42d0-4479-cdc6-6e0bfe91591c"
      },
      "outputs": [
        {
          "name": "stdout",
          "output_type": "stream",
          "text": [
            "(101, 'ANAND RAJ', 24, 'DATA SCIENCE')\n",
            "(103, 'KRISH', 34, 'DATA SCIENCE')\n",
            "(104, 'HARIOM', 24, 'OPERATIONS')\n",
            "(105, 'SHWETA', 24, 'HR')\n",
            "(106, 'ANURAG BANSAL', 26, 'WEB DEVELOPMENT')\n",
            "(107, 'ABHINAV GAUR', 24, 'WEB DEVELOPMENT')\n"
          ]
        }
      ],
      "source": [
        "getdata(cursor)"
      ]
    },
    {
      "cell_type": "code",
      "execution_count": 14,
      "metadata": {
        "colab": {
          "base_uri": "https://localhost:8080/"
        },
        "id": "wxBePpjq2TWd",
        "outputId": "2dad2f62-d870-4671-fc0d-0084caad5d72"
      },
      "outputs": [
        {
          "name": "stdout",
          "output_type": "stream",
          "text": [
            "(101, 'ANAND RAJ', 24, 'DATA SCIENCE')\n",
            "(103, 'KRISH', 34, 'DATA SCIENCE')\n",
            "(104, 'HARIOM', 24, 'OPERATIONS')\n",
            "(106, 'ANURAG BANSAL', 26, 'WEB DEVELOPMENT')\n",
            "(107, 'ABHINAV GAUR', 24, 'WEB DEVELOPMENT')\n"
          ]
        }
      ],
      "source": [
        "# Deleting the data from table\n",
        "cursor.execute('''\n",
        "DELETE FROM employees where name = 'SHWETA'\n",
        "''')\n",
        "\n",
        "connection.commit()\n",
        "getdata(cursor)"
      ]
    },
    {
      "cell_type": "markdown",
      "metadata": {
        "id": "lJGTaFjsAMqx"
      },
      "source": [
        "making a working model with help of sqlite"
      ]
    },
    {
      "cell_type": "code",
      "execution_count": 15,
      "metadata": {
        "id": "tazFR9rKAJhR"
      },
      "outputs": [],
      "source": [
        "connection = sql.connect('sales_data.db')\n",
        "cursor = connection.cursor()"
      ]
    },
    {
      "cell_type": "code",
      "execution_count": 16,
      "metadata": {
        "id": "kMNpGCNk2_Yl"
      },
      "outputs": [],
      "source": [
        "cursor.execute('''\n",
        "CREATE TABLE IF NOT EXISTS sales (\n",
        "  id INTEGER PRIMARY KEY,\n",
        "  date TEXT NOT NULL,\n",
        "  product TEXT NOT NULL,\n",
        "  sales INTEGER,\n",
        "  region TEXT\n",
        ")\n",
        "''')\n",
        "\n",
        "connection.commit()"
      ]
    },
    {
      "cell_type": "code",
      "execution_count": 17,
      "metadata": {
        "id": "hCYwEVxSAISa"
      },
      "outputs": [],
      "source": [
        "sales_data = [\n",
        "    ('2023-01-01', 'Product A', 100, 'North'),\n",
        "    ('2023-01-02', 'Product B', 150, 'South'),\n",
        "    ('2023-01-03', 'Product A', 120, 'East'),\n",
        "    ('2023-01-04', 'Product C', 200, 'West'),\n",
        "    ('2023-01-05', 'Product B', 90, 'North'),\n",
        "    ('2023-01-06', 'Product A', 110, 'South'),\n",
        "    ('2023-01-07', 'Product C', 180, 'East')\n",
        "]"
      ]
    },
    {
      "cell_type": "code",
      "execution_count": 18,
      "metadata": {
        "id": "ASRDfPNxAIMS"
      },
      "outputs": [],
      "source": [
        "#bulk insertion\n",
        "cursor.executemany('''\n",
        "INSERT INTO sales (date, product, sales, region)\n",
        "VALUES (?, ?, ?, ?)\n",
        "''', sales_data)\n",
        "\n",
        "connection.commit()"
      ]
    },
    {
      "cell_type": "code",
      "execution_count": 19,
      "metadata": {
        "id": "2JP5pxVnB_9d"
      },
      "outputs": [],
      "source": [
        "def getdata(sqlite3):\n",
        "  sqlite3.execute('Select * from sales')\n",
        "  rows = sqlite3.fetchall()\n",
        "\n",
        "  for row in rows:\n",
        "    print(row)"
      ]
    },
    {
      "cell_type": "code",
      "execution_count": 20,
      "metadata": {
        "colab": {
          "base_uri": "https://localhost:8080/"
        },
        "id": "N8Ip0DbJAIJm",
        "outputId": "8c910f87-783b-46fc-f8b1-dd4d1f4d5670"
      },
      "outputs": [
        {
          "name": "stdout",
          "output_type": "stream",
          "text": [
            "(1, '2023-01-01', 'Product A', 100, 'North')\n",
            "(2, '2023-01-02', 'Product B', 150, 'South')\n",
            "(3, '2023-01-03', 'Product A', 120, 'East')\n",
            "(4, '2023-01-04', 'Product C', 200, 'West')\n",
            "(5, '2023-01-05', 'Product B', 90, 'North')\n",
            "(6, '2023-01-06', 'Product A', 110, 'South')\n",
            "(7, '2023-01-07', 'Product C', 180, 'East')\n"
          ]
        }
      ],
      "source": [
        "getdata(cursor)"
      ]
    },
    {
      "cell_type": "code",
      "execution_count": 21,
      "metadata": {
        "id": "jaVT-FwIAIG3"
      },
      "outputs": [],
      "source": [
        "# close the connection\n",
        "connection.close()"
      ]
    },
    {
      "cell_type": "code",
      "execution_count": 22,
      "metadata": {
        "colab": {
          "base_uri": "https://localhost:8080/",
          "height": 263
        },
        "id": "247XB87RAID6",
        "outputId": "ccaf8263-ffdd-4087-a218-0ef0689241bf"
      },
      "outputs": [
        {
          "ename": "ProgrammingError",
          "evalue": "Cannot operate on a closed database.",
          "output_type": "error",
          "traceback": [
            "\u001b[1;31m---------------------------------------------------------------------------\u001b[0m",
            "\u001b[1;31mProgrammingError\u001b[0m                          Traceback (most recent call last)",
            "\u001b[1;32m<ipython-input-22-0de81b0d51cb>\u001b[0m in \u001b[0;36m<module>\u001b[1;34m\u001b[0m\n\u001b[1;32m----> 1\u001b[1;33m \u001b[0mgetdata\u001b[0m\u001b[1;33m(\u001b[0m\u001b[0mcursor\u001b[0m\u001b[1;33m)\u001b[0m\u001b[1;33m\u001b[0m\u001b[1;33m\u001b[0m\u001b[0m\n\u001b[0m",
            "\u001b[1;32m<ipython-input-19-ccee44d30a9c>\u001b[0m in \u001b[0;36mgetdata\u001b[1;34m(sqlite3)\u001b[0m\n\u001b[0;32m      1\u001b[0m \u001b[1;32mdef\u001b[0m \u001b[0mgetdata\u001b[0m\u001b[1;33m(\u001b[0m\u001b[0msqlite3\u001b[0m\u001b[1;33m)\u001b[0m\u001b[1;33m:\u001b[0m\u001b[1;33m\u001b[0m\u001b[1;33m\u001b[0m\u001b[0m\n\u001b[1;32m----> 2\u001b[1;33m   \u001b[0msqlite3\u001b[0m\u001b[1;33m.\u001b[0m\u001b[0mexecute\u001b[0m\u001b[1;33m(\u001b[0m\u001b[1;34m'Select * from sales'\u001b[0m\u001b[1;33m)\u001b[0m\u001b[1;33m\u001b[0m\u001b[1;33m\u001b[0m\u001b[0m\n\u001b[0m\u001b[0;32m      3\u001b[0m   \u001b[0mrows\u001b[0m \u001b[1;33m=\u001b[0m \u001b[0msqlite3\u001b[0m\u001b[1;33m.\u001b[0m\u001b[0mfetchall\u001b[0m\u001b[1;33m(\u001b[0m\u001b[1;33m)\u001b[0m\u001b[1;33m\u001b[0m\u001b[1;33m\u001b[0m\u001b[0m\n\u001b[0;32m      4\u001b[0m \u001b[1;33m\u001b[0m\u001b[0m\n\u001b[0;32m      5\u001b[0m   \u001b[1;32mfor\u001b[0m \u001b[0mrow\u001b[0m \u001b[1;32min\u001b[0m \u001b[0mrows\u001b[0m\u001b[1;33m:\u001b[0m\u001b[1;33m\u001b[0m\u001b[1;33m\u001b[0m\u001b[0m\n",
            "\u001b[1;31mProgrammingError\u001b[0m: Cannot operate on a closed database."
          ]
        }
      ],
      "source": [
        "getdata(cursor)"
      ]
    },
    {
      "cell_type": "code",
      "execution_count": null,
      "metadata": {
        "id": "UFI1PmmqCL34"
      },
      "outputs": [],
      "source": []
    }
  ],
  "metadata": {
    "colab": {
      "provenance": [],
      "toc_visible": true
    },
    "kernelspec": {
      "display_name": "Python 3",
      "name": "python3"
    },
    "language_info": {
      "codemirror_mode": {
        "name": "ipython",
        "version": 3
      },
      "file_extension": ".py",
      "mimetype": "text/x-python",
      "name": "python",
      "nbconvert_exporter": "python",
      "pygments_lexer": "ipython3",
      "version": "3.9.4"
    }
  },
  "nbformat": 4,
  "nbformat_minor": 0
}
